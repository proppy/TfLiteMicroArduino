{
 "cells": [
  {
   "cell_type": "markdown",
   "metadata": {
    "slideshow": {
     "slide_type": "slide"
    }
   },
   "source": [
    "# 「tflite micro」であそぼう！\n",
    "## 元ノートブック：[@dansitu](https://twitter.com/dansitu)\n",
    "### 日本語バーション：[@proppy](https://twitter.com/proppy])"
   ]
  },
  {
   "cell_type": "markdown",
   "metadata": {
    "slideshow": {
     "slide_type": "slide"
    }
   },
   "source": [
    "# 「tflite micro」ってなんだ？\n",
    "\n",
    "- マイコンで「tflite」が動く事\n",
    "![img](https://wiki.stm32duino.com/images/thumb/d/db/STM32_Blue_Pill_perspective.jpg/800px-STM32_Blue_Pill_perspective.jpg)\n",
    "- https://github.com/tensorflow/tensorflow/tree/master/tensorflow/lite/experimental/micro"
   ]
  },
  {
   "cell_type": "code",
   "execution_count": null,
   "metadata": {
    "slideshow": {
     "slide_type": "skip"
    }
   },
   "outputs": [],
   "source": [
    "! python -m pip install tensorflow==2.0.0-beta1\n",
    "import tensorflow as tf\n",
    "print(tf.version.VERSION)\n",
    "\n",
    "! python -m pip install matplotlib\n",
    "%matplotlib inline\n",
    "import matplotlib.pyplot as plt\n",
    "plt.rcParams['figure.dpi'] = 200"
   ]
  },
  {
   "cell_type": "markdown",
   "metadata": {
    "slideshow": {
     "slide_type": "slide"
    }
   },
   "source": [
    "# 一番かんたんなモデルを作りましょう！"
   ]
  },
  {
   "cell_type": "markdown",
   "metadata": {
    "slideshow": {
     "slide_type": "slide"
    }
   },
   "source": [
    "## sin() 1000個"
   ]
  },
  {
   "cell_type": "code",
   "execution_count": null,
   "metadata": {
    "slideshow": {
     "slide_type": "-"
    }
   },
   "outputs": [],
   "source": [
    "import numpy as np\n",
    "import math\n",
    "import matplotlib.pyplot as plt\n",
    "\n",
    "x_values = np.random.uniform(low=0, high=2*math.pi, size=1000)\n",
    "np.random.shuffle(x_values)\n",
    "y_values = np.sin(x_values)\n",
    "plt.plot(x_values, y_values, 'b.')\n",
    "plt.show()"
   ]
  },
  {
   "cell_type": "markdown",
   "metadata": {
    "slideshow": {
     "slide_type": "slide"
    }
   },
   "source": [
    "## ノイズをかけて"
   ]
  },
  {
   "cell_type": "code",
   "execution_count": null,
   "metadata": {
    "slideshow": {
     "slide_type": "-"
    }
   },
   "outputs": [],
   "source": [
    "y_values += 0.1 * np.random.randn(*y_values.shape)\n",
    "plt.plot(x_values, y_values, 'b.')\n",
    "plt.show()"
   ]
  },
  {
   "cell_type": "markdown",
   "metadata": {
    "slideshow": {
     "slide_type": "slide"
    }
   },
   "source": [
    "## datasetをちゃんと分けて"
   ]
  },
  {
   "cell_type": "code",
   "execution_count": null,
   "metadata": {
    "slideshow": {
     "slide_type": "-"
    }
   },
   "outputs": [],
   "source": [
    "x_train, x_test, x_validate = x_values[:600], x_values[600:800], x_values[800:]\n",
    "y_train, y_test, y_validate = y_values[:600], y_values[600:800], y_values[800:]\n",
    "\n",
    "plt.plot(x_train, y_train, 'b.', label=\"Train\")\n",
    "plt.plot(x_test, y_test, 'r.', label=\"Test\")\n",
    "plt.plot(x_validate, y_validate, 'y.', label=\"Validate\")\n",
    "plt.legend()\n",
    "plt.show()"
   ]
  },
  {
   "cell_type": "markdown",
   "metadata": {
    "slideshow": {
     "slide_type": "slide"
    }
   },
   "source": [
    "## Kerasで２分を温めて"
   ]
  },
  {
   "cell_type": "code",
   "execution_count": null,
   "metadata": {
    "slideshow": {
     "slide_type": "-"
    }
   },
   "outputs": [],
   "source": [
    "from tensorflow.keras import layers\n",
    "import tensorflow as tf\n",
    "\n",
    "model = tf.keras.Sequential()\n",
    "model.add(layers.Dense(16, activation='relu', input_shape=(1,)))\n",
    "model.add(layers.Dense(16, activation='relu'))\n",
    "model.add(layers.Dense(1))\n",
    "model.compile(optimizer='rmsprop', loss='mse', metrics=['mae'])\n",
    "history = model.fit(x_train, y_train, epochs=1000, batch_size=16,\n",
    "                    validation_data=(x_validate, y_validate), verbose=1)"
   ]
  },
  {
   "cell_type": "markdown",
   "metadata": {
    "slideshow": {
     "slide_type": "slide"
    }
   },
   "source": [
    "## モデルを試して"
   ]
  },
  {
   "cell_type": "code",
   "execution_count": null,
   "metadata": {
    "slideshow": {
     "slide_type": "-"
    }
   },
   "outputs": [],
   "source": [
    "predictions = model.predict(x_test)\n",
    "\n",
    "plt.clf()\n",
    "plt.plot(x_test, y_test, 'bo', label='Test')\n",
    "plt.plot(x_test, predictions, 'ro', label='Keras')\n",
    "plt.legend()\n",
    "plt.show()"
   ]
  },
  {
   "cell_type": "markdown",
   "metadata": {
    "slideshow": {
     "slide_type": "slide"
    }
   },
   "source": [
    "## tfliteにゆっくり変わって"
   ]
  },
  {
   "cell_type": "code",
   "execution_count": null,
   "metadata": {
    "slideshow": {
     "slide_type": "-"
    }
   },
   "outputs": [],
   "source": [
    "converter = tf.lite.TFLiteConverter.from_keras_model(model)\n",
    "converter.optimizations = [tf.lite.Optimize.OPTIMIZE_FOR_SIZE]\n",
    "tflite_model = converter.convert()\n",
    "open(\"sine_model_quantized.tflite\", \"wb\").write(tflite_model)"
   ]
  },
  {
   "cell_type": "markdown",
   "metadata": {
    "slideshow": {
     "slide_type": "slide"
    }
   },
   "source": [
    "## マイコンに入れる前に最後の確認"
   ]
  },
  {
   "cell_type": "code",
   "execution_count": null,
   "metadata": {
    "slideshow": {
     "slide_type": "-"
    }
   },
   "outputs": [],
   "source": [
    "interpreter = tf.lite.Interpreter('sine_model_quantized.tflite')\n",
    "interpreter.allocate_tensors()\n",
    "input = interpreter.tensor(interpreter.get_input_details()[0][\"index\"])\n",
    "output = interpreter.tensor(interpreter.get_output_details()[0][\"index\"])\n",
    "lite_predictions = np.empty(x_test.size)\n",
    "for i in range(x_test.size):\n",
    "    input()[0] = x_test[i]\n",
    "    interpreter.invoke()\n",
    "    lite_predictions[i] = output()[0]\n",
    "plt.plot(x_test, y_test, 'bo', label='Test')\n",
    "plt.plot(x_test, predictions, 'ro', label='Keras')\n",
    "plt.plot(x_test, lite_predictions, 'kx', label='TFLite')\n",
    "plt.legend()\n",
    "plt.show()"
   ]
  },
  {
   "cell_type": "markdown",
   "metadata": {
    "slideshow": {
     "slide_type": "slide"
    }
   },
   "source": [
    "## マイコンに入れるために「ANSI C」に変わって"
   ]
  },
  {
   "cell_type": "code",
   "execution_count": null,
   "metadata": {
    "slideshow": {
     "slide_type": "-"
    }
   },
   "outputs": [],
   "source": [
    "_ = ! which xxd || apt-get install xxd\n",
    "! xxd -i sine_model_quantized.tflite > sine_model_data.h\n",
    "try:\n",
    "    from google.colab import files\n",
    "    files.download('sine_model_data.h')\n",
    "except Exception as e:\n",
    "    from IPython.display import FileLink\n",
    "    display(FileLink('sine_model_data.h'))"
   ]
  },
  {
   "cell_type": "markdown",
   "metadata": {
    "slideshow": {
     "slide_type": "-"
    }
   },
   "source": [
    "```\n",
    "unsigned char sine_model_quantized_tflite[] = {\n",
    "  0x18, 0x00, 0x00, 0x00, 0x54, 0x46, 0x4c, 0x33, 0x00, 0x00, 0x0e, 0x00,\n",
    "  0x18, 0x00, 0x04, 0x00, 0x08, 0x00, 0x0c, 0x00, 0x10, 0x00, 0x14, 0x00,\n",
    "  0x0e, 0x00, 0x00, 0x00, 0x03, 0x00, 0x00, 0x00, 0x10, 0x0a, 0x00, 0x00,\n",
    "  0xb8, 0x05, 0x00, 0x00, 0xa0, 0x05, 0x00, 0x00, 0x04, 0x00, 0x00, 0x00,\n",
    "  0x0b, 0x00, 0x00, 0x00, 0x90, 0x05, 0x00, 0x00, 0x7c, 0x05, 0x00, 0x00,\n",
    "  0x24, 0x05, 0x00, 0x00, 0xd4, 0x04, 0x00, 0x00, 0xc4, 0x00, 0x00, 0x00,\n",
    "  // ...\n",
    "}\n",
    "unsigned int sine_model_quantized_tflite_len = 2640;\n",
    "```"
   ]
  },
  {
   "cell_type": "markdown",
   "metadata": {
    "slideshow": {
     "slide_type": "slide"
    }
   },
   "source": [
    "## Arduinoタイム\n",
    "\n",
    "`SineSerial.ino`\n",
    "\n",
    "```\n",
    "#include \"TfLiteMicroArduino.h\"\n",
    "#include \"sine_model_data.h\"\n",
    "\n",
    "float angle = 0;\n",
    "\n",
    "void setup() {\n",
    "    // ...\n",
    "}\n",
    "\n",
    "void loop() {\n",
    "    // ...\n",
    "}\n",
    "\n",
    "```"
   ]
  },
  {
   "cell_type": "markdown",
   "metadata": {
    "slideshow": {
     "slide_type": "slide"
    }
   },
   "source": [
    "## tflite microのinterpreterを設定する\n",
    "```\n",
    "void setup() {\n",
    "  Serial.begin(9600);\n",
    "  TfLiteMicro.begin(g_sine_model_data);\n",
    "}\n",
    "```"
   ]
  },
  {
   "cell_type": "markdown",
   "metadata": {
    "slideshow": {
     "slide_type": "slide"
    }
   },
   "source": [
    "## モデルを叩く\n",
    "```\n",
    "void loop() {\n",
    "  // ...\n",
    "  TfLiteMicro.inputFloat(0)[0] = angle;\n",
    "  TfLiteMicro.invoke();\n",
    "  Serial.println(TfLiteMicro.outputFloat(0)[0]);\n",
    "  angle += 0.1f;\n",
    "  if (angle > 2 * M_PI) {\n",
    "    angle = 0.0f;\n",
    "  }\n",
    "}\n",
    "```\n"
   ]
  },
  {
   "cell_type": "markdown",
   "metadata": {
    "slideshow": {
     "slide_type": "-"
    }
   },
   "source": [
    "![plotter](plotter.png)"
   ]
  },
  {
   "cell_type": "markdown",
   "metadata": {
    "slideshow": {
     "slide_type": "slide"
    }
   },
   "source": [
    "## LEDを点ける\n",
    "\n",
    "```\n",
    "void setup() {\n",
    "  // ...\n",
    "  TfLiteMicro.begin(g_sine_model_data);\n",
    "  pinMode(PB9, PWM);\n",
    "}\n",
    "\n",
    "void loop() {\n",
    "  // ...\n",
    "  TfLiteMicro.inputFloat(0)[0] = angle;\n",
    "  TfLiteMicro.invoke();\n",
    "  float y = TfLiteMicro.outputFloat(0)[0];\n",
    "  pwmWrite(PB9, 65535 * (y + 1.0f) / 2.0f);\n",
    "  angle += 0.01f;\n",
    "  if (angle > 2 * M_PI) {\n",
    "    angle = 0.0f;\n",
    "  }\n",
    "}\n",
    "```\n"
   ]
  },
  {
   "cell_type": "markdown",
   "metadata": {
    "slideshow": {
     "slide_type": "-"
    }
   },
   "source": [
    "![leds](leds.gif)"
   ]
  }
 ],
 "metadata": {
  "celltoolbar": "Slideshow",
  "kernelspec": {
   "display_name": "Python 3",
   "language": "python",
   "name": "python3"
  },
  "language_info": {
   "codemirror_mode": {
    "name": "ipython",
    "version": 3
   },
   "file_extension": ".py",
   "mimetype": "text/x-python",
   "name": "python",
   "nbconvert_exporter": "python",
   "pygments_lexer": "ipython3",
   "version": "3.6.5"
  }
 },
 "nbformat": 4,
 "nbformat_minor": 2
}
