{
 "cells": [
  {
   "cell_type": "markdown",
   "metadata": {
    "slideshow": {
     "slide_type": "slide"
    }
   },
   "source": [
    "# 「tflite micro」であそぼう！\n",
    "## 元ノートブック：[@dansitu](https://twitter.com/dansitu)\n",
    "### 日本語バーション：[@proppy](https://twitter.com/proppy])\n",
    "\n",
    "\n",
    "# github.com/proppy/TfLiteMicroArduino ← PRをどうぞ\n"
   ]
  },
  {
   "cell_type": "markdown",
   "metadata": {
    "slideshow": {
     "slide_type": "slide"
    }
   },
   "source": [
    "# 「tflite micro」ってなんだ？\n",
    "\n",
    "- マイコンで「tflite」が動く事\n",
    "![img](https://media.digikey.com/Photos/Espressif%20Systems/ESP32-WROOM-32.JPG)\n",
    "- https://github.com/tensorflow/tensorflow/tree/master/tensorflow/lite/experimental/micro"
   ]
  },
  {
   "cell_type": "code",
   "execution_count": null,
   "metadata": {
    "slideshow": {
     "slide_type": "skip"
    }
   },
   "outputs": [],
   "source": [
    "! python -m pip install tensorflow==2.0.0-beta1\n",
    "import tensorflow as tf\n",
    "print(tf.version.VERSION)\n",
    "\n",
    "! python -m pip install matplotlib\n",
    "%matplotlib inline\n",
    "import matplotlib.pyplot as plt\n",
    "plt.rcParams['figure.dpi'] = 200"
   ]
  },
  {
   "cell_type": "markdown",
   "metadata": {
    "slideshow": {
     "slide_type": "slide"
    }
   },
   "source": [
    "# 一番かんたんなモデルを作りましょう！"
   ]
  },
  {
   "cell_type": "markdown",
   "metadata": {
    "slideshow": {
     "slide_type": "slide"
    }
   },
   "source": [
    "## sin() 1000個"
   ]
  },
  {
   "cell_type": "code",
   "execution_count": null,
   "metadata": {
    "slideshow": {
     "slide_type": "-"
    }
   },
   "outputs": [],
   "source": [
    "import numpy as np\n",
    "import math\n",
    "import matplotlib.pyplot as plt\n",
    "\n",
    "x_values = np.random.uniform(low=0, high=2*math.pi, size=1000)\n",
    "np.random.shuffle(x_values)\n",
    "y_values = np.sin(x_values)\n",
    "plt.plot(x_values, y_values, 'b.')\n",
    "print(plt.show())"
   ]
  },
  {
   "cell_type": "markdown",
   "metadata": {
    "slideshow": {
     "slide_type": "slide"
    }
   },
   "source": [
    "## ノイズをかけて"
   ]
  },
  {
   "cell_type": "code",
   "execution_count": null,
   "metadata": {
    "slideshow": {
     "slide_type": "-"
    }
   },
   "outputs": [],
   "source": [
    "y_values += 0.1 * np.random.randn(*y_values.shape)\n",
    "plt.plot(x_values, y_values, 'b.')\n",
    "plt.show()"
   ]
  },
  {
   "cell_type": "markdown",
   "metadata": {
    "slideshow": {
     "slide_type": "slide"
    }
   },
   "source": [
    "## datasetをちゃんと分けて"
   ]
  },
  {
   "cell_type": "code",
   "execution_count": null,
   "metadata": {
    "slideshow": {
     "slide_type": "-"
    }
   },
   "outputs": [],
   "source": [
    "x_train, x_test, x_validate = x_values[:600], x_values[600:800], x_values[800:]\n",
    "y_train, y_test, y_validate = y_values[:600], y_values[600:800], y_values[800:]\n",
    "\n",
    "plt.plot(x_train, y_train, 'b.', label=\"Train\")\n",
    "plt.plot(x_test, y_test, 'r.', label=\"Test\")\n",
    "plt.plot(x_validate, y_validate, 'y.', label=\"Validate\")\n",
    "plt.legend()\n",
    "plt.show()"
   ]
  },
  {
   "cell_type": "markdown",
   "metadata": {
    "slideshow": {
     "slide_type": "slide"
    }
   },
   "source": [
    "## Kerasで２分を温めて"
   ]
  },
  {
   "cell_type": "code",
   "execution_count": null,
   "metadata": {
    "slideshow": {
     "slide_type": "-"
    }
   },
   "outputs": [],
   "source": [
    "from tensorflow.keras import layers\n",
    "import tensorflow as tf\n",
    "\n",
    "model = tf.keras.Sequential()\n",
    "model.add(layers.Dense(16, activation='relu', input_shape=(1,)))\n",
    "model.add(layers.Dense(16, activation='relu'))\n",
    "model.add(layers.Dense(1))\n",
    "model.compile(optimizer='rmsprop', loss='mse', metrics=['mae'])\n",
    "history = model.fit(x_train, y_train, epochs=1000, batch_size=16,\n",
    "                    validation_data=(x_validate, y_validate), verbose=1)"
   ]
  },
  {
   "cell_type": "markdown",
   "metadata": {
    "slideshow": {
     "slide_type": "slide"
    }
   },
   "source": [
    "## モデルを試して"
   ]
  },
  {
   "cell_type": "code",
   "execution_count": null,
   "metadata": {
    "slideshow": {
     "slide_type": "-"
    }
   },
   "outputs": [],
   "source": [
    "predictions = model.predict(x_test)\n",
    "\n",
    "plt.clf()\n",
    "plt.plot(x_test, y_test, 'bo', label='Test')\n",
    "plt.plot(x_test, predictions, 'ro', label='Keras')\n",
    "plt.legend()\n",
    "plt.show()"
   ]
  },
  {
   "cell_type": "markdown",
   "metadata": {
    "slideshow": {
     "slide_type": "slide"
    }
   },
   "source": [
    "## tfliteにゆっくり変わって"
   ]
  },
  {
   "cell_type": "code",
   "execution_count": null,
   "metadata": {
    "slideshow": {
     "slide_type": "-"
    }
   },
   "outputs": [],
   "source": [
    "converter = tf.lite.TFLiteConverter.from_keras_model(model)\n",
    "converter.optimizations = [tf.lite.Optimize.OPTIMIZE_FOR_SIZE]\n",
    "tflite_model = converter.convert()\n",
    "open(\"sine_model_data.tflite\", \"wb\").write(tflite_model)"
   ]
  },
  {
   "cell_type": "markdown",
   "metadata": {
    "slideshow": {
     "slide_type": "slide"
    }
   },
   "source": [
    "## マイコンに入れる前に最後の確認"
   ]
  },
  {
   "cell_type": "code",
   "execution_count": null,
   "metadata": {
    "slideshow": {
     "slide_type": "-"
    }
   },
   "outputs": [],
   "source": [
    "interpreter = tf.lite.Interpreter('sine_model_data.tflite')\n",
    "interpreter.allocate_tensors()\n",
    "input = interpreter.tensor(interpreter.get_input_details()[0][\"index\"])\n",
    "output = interpreter.tensor(interpreter.get_output_details()[0][\"index\"])\n",
    "lite_predictions = np.empty(x_test.size)\n",
    "for i in range(x_test.size):\n",
    "    input()[0] = x_test[i]\n",
    "    interpreter.invoke()\n",
    "    lite_predictions[i] = output()[0]\n",
    "plt.plot(x_test, y_test, 'bo', label='Test')\n",
    "plt.plot(x_test, predictions, 'ro', label='Keras')\n",
    "plt.plot(x_test, lite_predictions, 'kx', label='TFLite')\n",
    "plt.legend()\n",
    "plt.show()"
   ]
  },
  {
   "cell_type": "markdown",
   "metadata": {
    "slideshow": {
     "slide_type": "slide"
    }
   },
   "source": [
    "## マイコンに入れるために「ANSI C」に変わって"
   ]
  },
  {
   "cell_type": "code",
   "execution_count": null,
   "metadata": {
    "slideshow": {
     "slide_type": "-"
    }
   },
   "outputs": [],
   "source": [
    "_ = ! which xxd || apt-get install xxd\n",
    "! xxd -i sine_model_data.tflite > sine_model_data.h\n",
    "try:\n",
    "    from google.colab import files\n",
    "    files.download('sine_model_data.h')\n",
    "except Exception as e:\n",
    "    from IPython.display import FileLink\n",
    "    display(FileLink('sine_model_data.h'))"
   ]
  },
  {
   "cell_type": "markdown",
   "metadata": {
    "slideshow": {
     "slide_type": "-"
    }
   },
   "source": [
    "```\n",
    "unsigned char sine_model_data_tflite[][] = {\n",
    "  0x18, 0x00, 0x00, 0x00, 0x54, 0x46, 0x4c, 0x33, 0x00, 0x00, 0x0e, 0x00,\n",
    "  0x18, 0x00, 0x04, 0x00, 0x08, 0x00, 0x0c, 0x00, 0x10, 0x00, 0x14, 0x00,\n",
    "  0x0e, 0x00, 0x00, 0x00, 0x03, 0x00, 0x00, 0x00, 0x10, 0x0a, 0x00, 0x00,\n",
    "  0xb8, 0x05, 0x00, 0x00, 0xa0, 0x05, 0x00, 0x00, 0x04, 0x00, 0x00, 0x00,\n",
    "  0x0b, 0x00, 0x00, 0x00, 0x90, 0x05, 0x00, 0x00, 0x7c, 0x05, 0x00, 0x00,\n",
    "  0x24, 0x05, 0x00, 0x00, 0xd4, 0x04, 0x00, 0x00, 0xc4, 0x00, 0x00, 0x00,\n",
    "  // ...\n",
    "}\n",
    "unsigned int sine_model_data_tflite_len = 2640;\n",
    "```"
   ]
  },
  {
   "cell_type": "markdown",
   "metadata": {
    "slideshow": {
     "slide_type": "slide"
    }
   },
   "source": [
    "## TFLiteMicroのやり方\n",
    "\n",
    "```\n",
    "#include \"tensorflow/lite/experimental/micro/kernels/all_ops_resolver.h\"\n",
    "#include \"tensorflow/lite/experimental/micro/micro_error_reporter.h\"\n",
    "#include \"tensorflow/lite/experimental/micro/micro_interpreter.h\"\n",
    "#include \"tensorflow/lite/schema/schema_generated.h\"\n",
    "#include \"tensorflow/lite/version.h\"\n",
    "\n",
    "int main() {\n",
    "  // ...\n",
    "}\n",
    "```"
   ]
  },
  {
   "cell_type": "markdown",
   "metadata": {
    "slideshow": {
     "slide_type": "slide"
    }
   },
   "source": [
    "## Modelをget\n",
    "```\n",
    "// ...\n",
    "#include \"tensorflow/lite/experimental/micro/examples/hello_world/sine_model_data.h\"\n",
    "\n",
    "int main() {\n",
    "  // ...\n",
    "  const tflite::Model* model = tflite::GetModel(g_sine_model_data);\n",
    "}\n",
    "```"
   ]
  },
  {
   "cell_type": "markdown",
   "metadata": {
    "slideshow": {
     "slide_type": "slide"
    }
   },
   "source": [
    "## MicroなんとかのInit\n",
    "\n",
    "```\n",
    "  uint8_t tensor_arena[2 * 1024];\n",
    "  static tflite::MicroErrorReporter micro_error_reporter;\n",
    "  tflite::ops::micro::AllOpsResolver resolver;\n",
    "\n",
    "  tflite::MicroInterpreter interpreter(\n",
    "      model, resolver, tensor_arena, sizeof(tensor_arena), error_reporter);\n",
    "  TfLiteStatus allocate_status = interpreter.AllocateTensors();\n",
    "```"
   ]
  },
  {
   "cell_type": "markdown",
   "metadata": {
    "slideshow": {
     "slide_type": "slide"
    }
   },
   "source": [
    "## TFLiteそのまま\n",
    "\n",
    "```\n",
    "  TfLiteTensor* input = interpreter.input(0);\n",
    "  TfLiteTensor* output = interpreter.output(0);\n",
    "\n",
    "  input.data.f[0] = x_val;\n",
    "  TfLiteStatus invoke_status = interpreter.Invoke();\n",
    "  float y_val = output.data.f[0];\n",
    "```"
   ]
  },
  {
   "cell_type": "markdown",
   "metadata": {
    "slideshow": {
     "slide_type": "slide"
    }
   },
   "source": [
    "## Arduino形\n",
    "\n",
    "```\n",
    "//　#include　\"何か.h\"\n",
    "\n",
    "// グローバル\n",
    "\n",
    "void setup() {\n",
    "    // 設定\n",
    "}\n",
    "\n",
    "void loop() {\n",
    "    // 毎回\n",
    "}\n",
    "\n",
    "```"
   ]
  },
  {
   "cell_type": "markdown",
   "metadata": {
    "slideshow": {
     "slide_type": "slide"
    }
   },
   "source": [
    "## Arduinoの匂いがする！\n",
    "\n",
    "```\n",
    "#include \"TfLiteMicroArduino.h\"\n",
    "#include \"sine_model_data.h\"\n",
    "\n",
    "void setup() {\n",
    "  TfLiteMicro.begin(sine_model_data_tflite);\n",
    "}\n",
    "\n",
    "void loop() {\n",
    "  // ...\n",
    "  TfLiteMicro.inputFloat(0)[0] = x_val;\n",
    "  TfLiteMicro.invoke();\n",
    "  float y_val = TfLiteMicro.outputFloat(0)[0]);\n",
    "}\n",
    "```\n"
   ]
  }
 ],
 "metadata": {
  "celltoolbar": "Slideshow",
  "kernelspec": {
   "display_name": "Python 3",
   "language": "python",
   "name": "python3"
  },
  "language_info": {
   "codemirror_mode": {
    "name": "ipython",
    "version": 3
   },
   "file_extension": ".py",
   "mimetype": "text/x-python",
   "name": "python",
   "nbconvert_exporter": "python",
   "pygments_lexer": "ipython3",
   "version": "3.6.8"
  }
 },
 "nbformat": 4,
 "nbformat_minor": 2
}
